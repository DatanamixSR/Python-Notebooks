{
 "cells": [
  {
   "cell_type": "code",
   "execution_count": 2,
   "metadata": {
    "collapsed": true
   },
   "outputs": [],
   "source": [
    "import pandas as pd\n",
    "import matplotlib.pyplot as plt\n",
    "import seaborn as sns\n",
    "%matplotlib inline"
   ]
  },
  {
   "cell_type": "code",
   "execution_count": 3,
   "metadata": {
    "collapsed": true
   },
   "outputs": [],
   "source": [
    "df = pd.read_csv('/Users/etron/Data Science/Data/9mo_pull.csv')"
   ]
  },
  {
   "cell_type": "code",
   "execution_count": 4,
   "metadata": {},
   "outputs": [
    {
     "name": "stdout",
     "output_type": "stream",
     "text": [
      "(99944, 6)\n",
      "member_id     int64\n",
      "tier         object\n",
      "country      object\n",
      "source       object\n",
      "tenure        int64\n",
      "active        int64\n",
      "dtype: object\n"
     ]
    },
    {
     "data": {
      "text/html": [
       "<div>\n",
       "<style>\n",
       "    .dataframe thead tr:only-child th {\n",
       "        text-align: right;\n",
       "    }\n",
       "\n",
       "    .dataframe thead th {\n",
       "        text-align: left;\n",
       "    }\n",
       "\n",
       "    .dataframe tbody tr th {\n",
       "        vertical-align: top;\n",
       "    }\n",
       "</style>\n",
       "<table border=\"1\" class=\"dataframe\">\n",
       "  <thead>\n",
       "    <tr style=\"text-align: right;\">\n",
       "      <th></th>\n",
       "      <th>member_id</th>\n",
       "      <th>tier</th>\n",
       "      <th>country</th>\n",
       "      <th>source</th>\n",
       "      <th>tenure</th>\n",
       "      <th>active</th>\n",
       "    </tr>\n",
       "  </thead>\n",
       "  <tbody>\n",
       "    <tr>\n",
       "      <th>0</th>\n",
       "      <td>12428284</td>\n",
       "      <td>Platinum</td>\n",
       "      <td>Germany</td>\n",
       "      <td>referral</td>\n",
       "      <td>6</td>\n",
       "      <td>0</td>\n",
       "    </tr>\n",
       "    <tr>\n",
       "      <th>1</th>\n",
       "      <td>39743027</td>\n",
       "      <td>Platinum</td>\n",
       "      <td>France</td>\n",
       "      <td>referral</td>\n",
       "      <td>1</td>\n",
       "      <td>0</td>\n",
       "    </tr>\n",
       "    <tr>\n",
       "      <th>2</th>\n",
       "      <td>59559187</td>\n",
       "      <td>Silver</td>\n",
       "      <td>UK</td>\n",
       "      <td>organic</td>\n",
       "      <td>1</td>\n",
       "      <td>0</td>\n",
       "    </tr>\n",
       "    <tr>\n",
       "      <th>3</th>\n",
       "      <td>46170183</td>\n",
       "      <td>Silver</td>\n",
       "      <td>UK</td>\n",
       "      <td>organic</td>\n",
       "      <td>4</td>\n",
       "      <td>0</td>\n",
       "    </tr>\n",
       "    <tr>\n",
       "      <th>4</th>\n",
       "      <td>14600427</td>\n",
       "      <td>Gold</td>\n",
       "      <td>France</td>\n",
       "      <td>organic</td>\n",
       "      <td>1</td>\n",
       "      <td>0</td>\n",
       "    </tr>\n",
       "  </tbody>\n",
       "</table>\n",
       "</div>"
      ],
      "text/plain": [
       "   member_id      tier  country    source  tenure  active\n",
       "0   12428284  Platinum  Germany  referral       6       0\n",
       "1   39743027  Platinum   France  referral       1       0\n",
       "2   59559187    Silver       UK   organic       1       0\n",
       "3   46170183    Silver       UK   organic       4       0\n",
       "4   14600427      Gold   France   organic       1       0"
      ]
     },
     "execution_count": 4,
     "metadata": {},
     "output_type": "execute_result"
    }
   ],
   "source": [
    "print df.shape\n",
    "print df.dtypes\n",
    "df.head()"
   ]
  },
  {
   "cell_type": "code",
   "execution_count": 30,
   "metadata": {},
   "outputs": [
    {
     "data": {
      "text/html": [
       "<div>\n",
       "<style>\n",
       "    .dataframe thead tr:only-child th {\n",
       "        text-align: right;\n",
       "    }\n",
       "\n",
       "    .dataframe thead th {\n",
       "        text-align: left;\n",
       "    }\n",
       "\n",
       "    .dataframe tbody tr th {\n",
       "        vertical-align: top;\n",
       "    }\n",
       "</style>\n",
       "<table border=\"1\" class=\"dataframe\">\n",
       "  <thead>\n",
       "    <tr>\n",
       "      <th></th>\n",
       "      <th></th>\n",
       "      <th>active</th>\n",
       "      <th colspan=\"2\" halign=\"left\">tenure</th>\n",
       "    </tr>\n",
       "    <tr>\n",
       "      <th></th>\n",
       "      <th></th>\n",
       "      <th>mean</th>\n",
       "      <th>mean</th>\n",
       "      <th>count</th>\n",
       "    </tr>\n",
       "    <tr>\n",
       "      <th>tier</th>\n",
       "      <th>source</th>\n",
       "      <th></th>\n",
       "      <th></th>\n",
       "      <th></th>\n",
       "    </tr>\n",
       "  </thead>\n",
       "  <tbody>\n",
       "    <tr>\n",
       "      <th rowspan=\"3\" valign=\"top\">Gold</th>\n",
       "      <th>organic</th>\n",
       "      <td>0.012</td>\n",
       "      <td>1.816</td>\n",
       "      <td>49560</td>\n",
       "    </tr>\n",
       "    <tr>\n",
       "      <th>partnerships</th>\n",
       "      <td>0.095</td>\n",
       "      <td>3.092</td>\n",
       "      <td>7336</td>\n",
       "    </tr>\n",
       "    <tr>\n",
       "      <th>referral</th>\n",
       "      <td>0.298</td>\n",
       "      <td>5.128</td>\n",
       "      <td>2942</td>\n",
       "    </tr>\n",
       "    <tr>\n",
       "      <th rowspan=\"3\" valign=\"top\">Platinum</th>\n",
       "      <th>organic</th>\n",
       "      <td>0.002</td>\n",
       "      <td>1.319</td>\n",
       "      <td>8814</td>\n",
       "    </tr>\n",
       "    <tr>\n",
       "      <th>partnerships</th>\n",
       "      <td>0.028</td>\n",
       "      <td>1.883</td>\n",
       "      <td>1271</td>\n",
       "    </tr>\n",
       "    <tr>\n",
       "      <th>referral</th>\n",
       "      <td>0.117</td>\n",
       "      <td>3.033</td>\n",
       "      <td>549</td>\n",
       "    </tr>\n",
       "    <tr>\n",
       "      <th rowspan=\"3\" valign=\"top\">Silver</th>\n",
       "      <th>organic</th>\n",
       "      <td>0.143</td>\n",
       "      <td>3.528</td>\n",
       "      <td>24462</td>\n",
       "    </tr>\n",
       "    <tr>\n",
       "      <th>partnerships</th>\n",
       "      <td>0.285</td>\n",
       "      <td>4.949</td>\n",
       "      <td>3593</td>\n",
       "    </tr>\n",
       "    <tr>\n",
       "      <th>referral</th>\n",
       "      <td>0.478</td>\n",
       "      <td>6.504</td>\n",
       "      <td>1417</td>\n",
       "    </tr>\n",
       "  </tbody>\n",
       "</table>\n",
       "</div>"
      ],
      "text/plain": [
       "                      active tenure       \n",
       "                        mean   mean  count\n",
       "tier     source                           \n",
       "Gold     organic       0.012  1.816  49560\n",
       "         partnerships  0.095  3.092   7336\n",
       "         referral      0.298  5.128   2942\n",
       "Platinum organic       0.002  1.319   8814\n",
       "         partnerships  0.028  1.883   1271\n",
       "         referral      0.117  3.033    549\n",
       "Silver   organic       0.143  3.528  24462\n",
       "         partnerships  0.285  4.949   3593\n",
       "         referral      0.478  6.504   1417"
      ]
     },
     "execution_count": 30,
     "metadata": {},
     "output_type": "execute_result"
    }
   ],
   "source": [
    "df.groupby(['tier','source']).agg({'tenure': ['mean', 'count'], 'active': ['mean']}).round(3)"
   ]
  },
  {
   "cell_type": "code",
   "execution_count": 5,
   "metadata": {},
   "outputs": [
    {
     "name": "stdout",
     "output_type": "stream",
     "text": [
      "            active    tenure\n",
      "tier                        \n",
      "Gold      0.036265  2.135716\n",
      "Platinum  0.011191  1.474704\n",
      "Silver    0.176540  3.844327\n",
      "               active    tenure\n",
      "country                        \n",
      "Canada       0.220897  3.901001\n",
      "France       0.038984  2.062140\n",
      "Germany      0.056645  2.496410\n",
      "Italy        0.038413  2.076721\n",
      "Netherlands  0.171980  3.350356\n",
      "Spain        0.034483  2.041998\n",
      "UK           0.059169  2.527422\n",
      "US           0.057965  2.537259\n",
      "                active    tenure\n",
      "source                          \n",
      "organic       0.049689  2.268953\n",
      "partnerships  0.144098  3.513115\n",
      "referral      0.329666  5.290954\n"
     ]
    }
   ],
   "source": [
    "for i in ['tier', 'country', 'source']:\n",
    "    print df.groupby(i).agg({'tenure': 'mean', 'active': 'mean'})"
   ]
  },
  {
   "cell_type": "code",
   "execution_count": 6,
   "metadata": {},
   "outputs": [
    {
     "name": "stdout",
     "output_type": "stream",
     "text": [
      "            active    tenure\n",
      "tier                        \n",
      "Gold      0.036265  2.135716\n",
      "Platinum  0.011191  1.474704\n",
      "Silver    0.176540  3.844327\n",
      "               active    tenure\n",
      "country                        \n",
      "Canada       0.220897  3.901001\n",
      "France       0.038984  2.062140\n",
      "Germany      0.056645  2.496410\n",
      "Italy        0.038413  2.076721\n",
      "Netherlands  0.171980  3.350356\n",
      "Spain        0.034483  2.041998\n",
      "UK           0.059169  2.527422\n",
      "US           0.057965  2.537259\n",
      "                active    tenure\n",
      "source                          \n",
      "organic       0.049689  2.268953\n",
      "partnerships  0.144098  3.513115\n",
      "referral      0.329666  5.290954\n"
     ]
    }
   ],
   "source": [
    "for i in ['tier', 'country', 'source']:\n",
    "    print df.groupby(i).agg({'tenure': 'mean', 'active': 'mean'})"
   ]
  },
  {
   "cell_type": "code",
   "execution_count": 7,
   "metadata": {},
   "outputs": [
    {
     "data": {
      "text/html": [
       "<div>\n",
       "<style>\n",
       "    .dataframe thead tr:only-child th {\n",
       "        text-align: right;\n",
       "    }\n",
       "\n",
       "    .dataframe thead th {\n",
       "        text-align: left;\n",
       "    }\n",
       "\n",
       "    .dataframe tbody tr th {\n",
       "        vertical-align: top;\n",
       "    }\n",
       "</style>\n",
       "<table border=\"1\" class=\"dataframe\">\n",
       "  <thead>\n",
       "    <tr style=\"text-align: right;\">\n",
       "      <th></th>\n",
       "      <th>tenure</th>\n",
       "      <th>active</th>\n",
       "      <th>tier_Gold</th>\n",
       "      <th>tier_Platinum</th>\n",
       "      <th>tier_Silver</th>\n",
       "      <th>country_Canada</th>\n",
       "      <th>country_France</th>\n",
       "      <th>country_Germany</th>\n",
       "      <th>country_Italy</th>\n",
       "      <th>country_Netherlands</th>\n",
       "      <th>country_Spain</th>\n",
       "      <th>country_UK</th>\n",
       "      <th>country_US</th>\n",
       "      <th>source_organic</th>\n",
       "      <th>source_partnerships</th>\n",
       "      <th>source_referral</th>\n",
       "    </tr>\n",
       "  </thead>\n",
       "  <tbody>\n",
       "    <tr>\n",
       "      <th>0</th>\n",
       "      <td>6</td>\n",
       "      <td>0</td>\n",
       "      <td>0</td>\n",
       "      <td>1</td>\n",
       "      <td>0</td>\n",
       "      <td>0</td>\n",
       "      <td>0</td>\n",
       "      <td>1</td>\n",
       "      <td>0</td>\n",
       "      <td>0</td>\n",
       "      <td>0</td>\n",
       "      <td>0</td>\n",
       "      <td>0</td>\n",
       "      <td>0</td>\n",
       "      <td>0</td>\n",
       "      <td>1</td>\n",
       "    </tr>\n",
       "    <tr>\n",
       "      <th>1</th>\n",
       "      <td>1</td>\n",
       "      <td>0</td>\n",
       "      <td>0</td>\n",
       "      <td>1</td>\n",
       "      <td>0</td>\n",
       "      <td>0</td>\n",
       "      <td>1</td>\n",
       "      <td>0</td>\n",
       "      <td>0</td>\n",
       "      <td>0</td>\n",
       "      <td>0</td>\n",
       "      <td>0</td>\n",
       "      <td>0</td>\n",
       "      <td>0</td>\n",
       "      <td>0</td>\n",
       "      <td>1</td>\n",
       "    </tr>\n",
       "    <tr>\n",
       "      <th>2</th>\n",
       "      <td>1</td>\n",
       "      <td>0</td>\n",
       "      <td>0</td>\n",
       "      <td>0</td>\n",
       "      <td>1</td>\n",
       "      <td>0</td>\n",
       "      <td>0</td>\n",
       "      <td>0</td>\n",
       "      <td>0</td>\n",
       "      <td>0</td>\n",
       "      <td>0</td>\n",
       "      <td>1</td>\n",
       "      <td>0</td>\n",
       "      <td>1</td>\n",
       "      <td>0</td>\n",
       "      <td>0</td>\n",
       "    </tr>\n",
       "    <tr>\n",
       "      <th>3</th>\n",
       "      <td>4</td>\n",
       "      <td>0</td>\n",
       "      <td>0</td>\n",
       "      <td>0</td>\n",
       "      <td>1</td>\n",
       "      <td>0</td>\n",
       "      <td>0</td>\n",
       "      <td>0</td>\n",
       "      <td>0</td>\n",
       "      <td>0</td>\n",
       "      <td>0</td>\n",
       "      <td>1</td>\n",
       "      <td>0</td>\n",
       "      <td>1</td>\n",
       "      <td>0</td>\n",
       "      <td>0</td>\n",
       "    </tr>\n",
       "    <tr>\n",
       "      <th>4</th>\n",
       "      <td>1</td>\n",
       "      <td>0</td>\n",
       "      <td>1</td>\n",
       "      <td>0</td>\n",
       "      <td>0</td>\n",
       "      <td>0</td>\n",
       "      <td>1</td>\n",
       "      <td>0</td>\n",
       "      <td>0</td>\n",
       "      <td>0</td>\n",
       "      <td>0</td>\n",
       "      <td>0</td>\n",
       "      <td>0</td>\n",
       "      <td>1</td>\n",
       "      <td>0</td>\n",
       "      <td>0</td>\n",
       "    </tr>\n",
       "  </tbody>\n",
       "</table>\n",
       "</div>"
      ],
      "text/plain": [
       "   tenure  active  tier_Gold  tier_Platinum  tier_Silver  country_Canada  \\\n",
       "0       6       0          0              1            0               0   \n",
       "1       1       0          0              1            0               0   \n",
       "2       1       0          0              0            1               0   \n",
       "3       4       0          0              0            1               0   \n",
       "4       1       0          1              0            0               0   \n",
       "\n",
       "   country_France  country_Germany  country_Italy  country_Netherlands  \\\n",
       "0               0                1              0                    0   \n",
       "1               1                0              0                    0   \n",
       "2               0                0              0                    0   \n",
       "3               0                0              0                    0   \n",
       "4               1                0              0                    0   \n",
       "\n",
       "   country_Spain  country_UK  country_US  source_organic  source_partnerships  \\\n",
       "0              0           0           0               0                    0   \n",
       "1              0           0           0               0                    0   \n",
       "2              0           1           0               1                    0   \n",
       "3              0           1           0               1                    0   \n",
       "4              0           0           0               1                    0   \n",
       "\n",
       "   source_referral  \n",
       "0                1  \n",
       "1                1  \n",
       "2                0  \n",
       "3                0  \n",
       "4                0  "
      ]
     },
     "execution_count": 7,
     "metadata": {},
     "output_type": "execute_result"
    }
   ],
   "source": [
    "dummies = pd.get_dummies(df.drop('member_id',axis=1))\n",
    "dummies.head()"
   ]
  },
  {
   "cell_type": "code",
   "execution_count": 8,
   "metadata": {},
   "outputs": [
    {
     "data": {
      "text/html": [
       "<div>\n",
       "<style>\n",
       "    .dataframe thead tr:only-child th {\n",
       "        text-align: right;\n",
       "    }\n",
       "\n",
       "    .dataframe thead th {\n",
       "        text-align: left;\n",
       "    }\n",
       "\n",
       "    .dataframe tbody tr th {\n",
       "        vertical-align: top;\n",
       "    }\n",
       "</style>\n",
       "<table border=\"1\" class=\"dataframe\">\n",
       "  <thead>\n",
       "    <tr style=\"text-align: right;\">\n",
       "      <th></th>\n",
       "      <th>active</th>\n",
       "    </tr>\n",
       "    <tr>\n",
       "      <th>tenure</th>\n",
       "      <th></th>\n",
       "    </tr>\n",
       "  </thead>\n",
       "  <tbody>\n",
       "    <tr>\n",
       "      <th>1</th>\n",
       "      <td>0</td>\n",
       "    </tr>\n",
       "    <tr>\n",
       "      <th>2</th>\n",
       "      <td>0</td>\n",
       "    </tr>\n",
       "    <tr>\n",
       "      <th>3</th>\n",
       "      <td>0</td>\n",
       "    </tr>\n",
       "    <tr>\n",
       "      <th>4</th>\n",
       "      <td>0</td>\n",
       "    </tr>\n",
       "    <tr>\n",
       "      <th>5</th>\n",
       "      <td>0</td>\n",
       "    </tr>\n",
       "    <tr>\n",
       "      <th>6</th>\n",
       "      <td>0</td>\n",
       "    </tr>\n",
       "    <tr>\n",
       "      <th>7</th>\n",
       "      <td>0</td>\n",
       "    </tr>\n",
       "    <tr>\n",
       "      <th>8</th>\n",
       "      <td>0</td>\n",
       "    </tr>\n",
       "    <tr>\n",
       "      <th>9</th>\n",
       "      <td>1</td>\n",
       "    </tr>\n",
       "  </tbody>\n",
       "</table>\n",
       "</div>"
      ],
      "text/plain": [
       "        active\n",
       "tenure        \n",
       "1            0\n",
       "2            0\n",
       "3            0\n",
       "4            0\n",
       "5            0\n",
       "6            0\n",
       "7            0\n",
       "8            0\n",
       "9            1"
      ]
     },
     "execution_count": 8,
     "metadata": {},
     "output_type": "execute_result"
    }
   ],
   "source": [
    "### Only 9 Months tenure are still active - all have same sign up date ###\n",
    "\n",
    "df.groupby('tenure').agg({'active':'mean'})"
   ]
  },
  {
   "cell_type": "code",
   "execution_count": 9,
   "metadata": {
    "collapsed": true
   },
   "outputs": [],
   "source": [
    "from sklearn.model_selection import train_test_split\n",
    "from sklearn.ensemble import GradientBoostingClassifier, partial_dependence\n",
    "from sklearn.linear_model import LogisticRegression\n",
    "from sklearn.metrics import roc_auc_score\n",
    "from sklearn.metrics import explained_variance_score"
   ]
  },
  {
   "cell_type": "code",
   "execution_count": 10,
   "metadata": {
    "collapsed": true
   },
   "outputs": [],
   "source": [
    "def gbm_acc(features, target, test_size, random_state = 69):\n",
    "    \n",
    "    X_train, X_test, y_train, y_test = train_test_split(features,\n",
    "                                                        target,\n",
    "                                                        test_size = test_size,\n",
    "                                                        random_state = random_state)\n",
    "    gbm = GradientBoostingClassifier()\n",
    "    gbm.fit(X_train, y_train)\n",
    "    pred = gbm.predict_proba(X_test)\n",
    "    pred = [p[1] for p in pred]\n",
    "    return(roc_auc_score(y_test, pred))\n",
    "    "
   ]
  },
  {
   "cell_type": "code",
   "execution_count": 11,
   "metadata": {
    "collapsed": true
   },
   "outputs": [],
   "source": [
    "dummies = pd.get_dummies(df)\n",
    "y = dummies['active']\n",
    "x = dummies.drop(['active','tenure','member_id'],axis=1)"
   ]
  },
  {
   "cell_type": "code",
   "execution_count": 12,
   "metadata": {},
   "outputs": [
    {
     "data": {
      "text/html": [
       "<div>\n",
       "<style>\n",
       "    .dataframe thead tr:only-child th {\n",
       "        text-align: right;\n",
       "    }\n",
       "\n",
       "    .dataframe thead th {\n",
       "        text-align: left;\n",
       "    }\n",
       "\n",
       "    .dataframe tbody tr th {\n",
       "        vertical-align: top;\n",
       "    }\n",
       "</style>\n",
       "<table border=\"1\" class=\"dataframe\">\n",
       "  <thead>\n",
       "    <tr style=\"text-align: right;\">\n",
       "      <th></th>\n",
       "      <th>tier_Gold</th>\n",
       "      <th>tier_Platinum</th>\n",
       "      <th>tier_Silver</th>\n",
       "      <th>country_Canada</th>\n",
       "      <th>country_France</th>\n",
       "      <th>country_Germany</th>\n",
       "      <th>country_Italy</th>\n",
       "      <th>country_Netherlands</th>\n",
       "      <th>country_Spain</th>\n",
       "      <th>country_UK</th>\n",
       "      <th>country_US</th>\n",
       "      <th>source_organic</th>\n",
       "      <th>source_partnerships</th>\n",
       "      <th>source_referral</th>\n",
       "    </tr>\n",
       "  </thead>\n",
       "  <tbody>\n",
       "    <tr>\n",
       "      <th>0</th>\n",
       "      <td>0</td>\n",
       "      <td>1</td>\n",
       "      <td>0</td>\n",
       "      <td>0</td>\n",
       "      <td>0</td>\n",
       "      <td>1</td>\n",
       "      <td>0</td>\n",
       "      <td>0</td>\n",
       "      <td>0</td>\n",
       "      <td>0</td>\n",
       "      <td>0</td>\n",
       "      <td>0</td>\n",
       "      <td>0</td>\n",
       "      <td>1</td>\n",
       "    </tr>\n",
       "    <tr>\n",
       "      <th>1</th>\n",
       "      <td>0</td>\n",
       "      <td>1</td>\n",
       "      <td>0</td>\n",
       "      <td>0</td>\n",
       "      <td>1</td>\n",
       "      <td>0</td>\n",
       "      <td>0</td>\n",
       "      <td>0</td>\n",
       "      <td>0</td>\n",
       "      <td>0</td>\n",
       "      <td>0</td>\n",
       "      <td>0</td>\n",
       "      <td>0</td>\n",
       "      <td>1</td>\n",
       "    </tr>\n",
       "    <tr>\n",
       "      <th>2</th>\n",
       "      <td>0</td>\n",
       "      <td>0</td>\n",
       "      <td>1</td>\n",
       "      <td>0</td>\n",
       "      <td>0</td>\n",
       "      <td>0</td>\n",
       "      <td>0</td>\n",
       "      <td>0</td>\n",
       "      <td>0</td>\n",
       "      <td>1</td>\n",
       "      <td>0</td>\n",
       "      <td>1</td>\n",
       "      <td>0</td>\n",
       "      <td>0</td>\n",
       "    </tr>\n",
       "    <tr>\n",
       "      <th>3</th>\n",
       "      <td>0</td>\n",
       "      <td>0</td>\n",
       "      <td>1</td>\n",
       "      <td>0</td>\n",
       "      <td>0</td>\n",
       "      <td>0</td>\n",
       "      <td>0</td>\n",
       "      <td>0</td>\n",
       "      <td>0</td>\n",
       "      <td>1</td>\n",
       "      <td>0</td>\n",
       "      <td>1</td>\n",
       "      <td>0</td>\n",
       "      <td>0</td>\n",
       "    </tr>\n",
       "    <tr>\n",
       "      <th>4</th>\n",
       "      <td>1</td>\n",
       "      <td>0</td>\n",
       "      <td>0</td>\n",
       "      <td>0</td>\n",
       "      <td>1</td>\n",
       "      <td>0</td>\n",
       "      <td>0</td>\n",
       "      <td>0</td>\n",
       "      <td>0</td>\n",
       "      <td>0</td>\n",
       "      <td>0</td>\n",
       "      <td>1</td>\n",
       "      <td>0</td>\n",
       "      <td>0</td>\n",
       "    </tr>\n",
       "  </tbody>\n",
       "</table>\n",
       "</div>"
      ],
      "text/plain": [
       "   tier_Gold  tier_Platinum  tier_Silver  country_Canada  country_France  \\\n",
       "0          0              1            0               0               0   \n",
       "1          0              1            0               0               1   \n",
       "2          0              0            1               0               0   \n",
       "3          0              0            1               0               0   \n",
       "4          1              0            0               0               1   \n",
       "\n",
       "   country_Germany  country_Italy  country_Netherlands  country_Spain  \\\n",
       "0                1              0                    0              0   \n",
       "1                0              0                    0              0   \n",
       "2                0              0                    0              0   \n",
       "3                0              0                    0              0   \n",
       "4                0              0                    0              0   \n",
       "\n",
       "   country_UK  country_US  source_organic  source_partnerships  \\\n",
       "0           0           0               0                    0   \n",
       "1           0           0               0                    0   \n",
       "2           1           0               1                    0   \n",
       "3           1           0               1                    0   \n",
       "4           0           0               1                    0   \n",
       "\n",
       "   source_referral  \n",
       "0                1  \n",
       "1                1  \n",
       "2                0  \n",
       "3                0  \n",
       "4                0  "
      ]
     },
     "execution_count": 12,
     "metadata": {},
     "output_type": "execute_result"
    }
   ],
   "source": [
    "x.head()"
   ]
  },
  {
   "cell_type": "code",
   "execution_count": 13,
   "metadata": {},
   "outputs": [
    {
     "name": "stdout",
     "output_type": "stream",
     "text": [
      "0.880379588157\n",
      "0.885223491936\n",
      "0.879685420209\n",
      "0.882663679392\n",
      "0.881744712208\n"
     ]
    }
   ],
   "source": [
    "iterations = 5\n",
    "\n",
    "for i in range(iterations):\n",
    "    print gbm_acc(x, y, 0.3, i)"
   ]
  },
  {
   "cell_type": "code",
   "execution_count": 14,
   "metadata": {
    "collapsed": true
   },
   "outputs": [],
   "source": [
    "plat = dummies[dummies['tier_Platinum'] == 1]\n",
    "gold = dummies[dummies['tier_Gold'] == 1]\n",
    "silver = dummies[dummies['tier_Silver'] == 1]"
   ]
  },
  {
   "cell_type": "code",
   "execution_count": 43,
   "metadata": {},
   "outputs": [
    {
     "data": {
      "image/png": "[encoded data removed]",
      "text/plain": [
       "<matplotlib.figure.Figure at 0x11eb54650>"
      ]
     },
     "metadata": {},
     "output_type": "display_data"
    }
   ],
   "source": [
    "import matplotlib.pyplot as plt\n",
    "import seaborn as sns\n",
    "\n",
    "sns.factorplot(x = \"tenure\",   # categorical variable on the x axis, \n",
    "               col = \"tier\",   # categorical variable split apart into adjacent plots\n",
    "               data = df,      # data source\n",
    "               kind = \"count\", # plot type - one of [point, bar, count, box, violin, strip]\n",
    "               size = 5)       # size of the plot\n",
    "               \n",
    "\n",
    "plt.show()"
   ]
  },
  {
   "cell_type": "code",
   "execution_count": 31,
   "metadata": {},
   "outputs": [
    {
     "data": {
      "image/png": "[encoded data removed]",
      "text/plain": [
       "<matplotlib.figure.Figure at 0x118a3b9d0>"
      ]
     },
     "metadata": {},
     "output_type": "display_data"
    },
    {
     "data": {
      "image/png": "[encoded data removed]",
      "text/plain": [
       "<matplotlib.figure.Figure at 0x11af3ffd0>"
      ]
     },
     "metadata": {},
     "output_type": "display_data"
    },
    {
     "data": {
      "image/png": "[encoded data removed]",
      "text/plain": [
       "<matplotlib.figure.Figure at 0x119d168d0>"
      ]
     },
     "metadata": {},
     "output_type": "display_data"
    }
   ],
   "source": [
    "import seaborn as sns\n",
    "\n",
    "sns.countplot(x = 'tenure', data = plat)\n",
    "plt.title('Platinum Subscribers')\n",
    "plt.show()\n",
    "\n",
    "sns.countplot(x = 'tenure', data = gold)\n",
    "plt.title('Gold Subscribers')\n",
    "plt.show()\n",
    "\n",
    "sns.countplot(x = 'tenure', data = silver)\n",
    "plt.title('Silver Subscribers')\n",
    "plt.show()"
   ]
  },
  {
   "cell_type": "code",
   "execution_count": 16,
   "metadata": {
    "collapsed": true
   },
   "outputs": [],
   "source": [
    "plat_y1 = plat['active']\n",
    "plat_y2 = plat['tenure']\n",
    "plat_x = plat.drop(['active','tenure'],axis=1)\n",
    "\n",
    "gold_y1 = gold['active']\n",
    "gold_y2 = gold['tenure']\n",
    "gold_x = gold.drop(['active','tenure'],axis=1)\n",
    "\n",
    "silver_y1 = silver['active']\n",
    "silver_y2 = silver['tenure']\n",
    "silver_x = silver.drop(['active','tenure'],axis=1)"
   ]
  },
  {
   "cell_type": "code",
   "execution_count": 17,
   "metadata": {},
   "outputs": [
    {
     "name": "stdout",
     "output_type": "stream",
     "text": [
      "0.888902129012\n",
      "0.871006473479\n",
      "0.800306552323\n"
     ]
    }
   ],
   "source": [
    "print gbm_acc(plat_x, plat_y1, 0.3)\n",
    "\n",
    "print gbm_acc(gold_x, gold_y1, 0.3)\n",
    "\n",
    "print gbm_acc(silver_x, silver_y1, 0.3)"
   ]
  },
  {
   "cell_type": "code",
   "execution_count": 32,
   "metadata": {
    "collapsed": true
   },
   "outputs": [],
   "source": [
    "final = dummies.drop(['member_id', 'active'], axis = 1)"
   ]
  },
  {
   "cell_type": "code",
   "execution_count": 102,
   "metadata": {
    "collapsed": true
   },
   "outputs": [],
   "source": [
    "# XGBoost Regressor to predict tenure length\n",
    "\n",
    "import xgboost\n",
    "\n",
    "\n",
    "\n",
    "def xgb_acc(features, target, test_size, random_state = 69):\n",
    "    \n",
    "    X_train, X_test, y_train, y_test = train_test_split(features,\n",
    "                                                        target,\n",
    "                                                        test_size = test_size,\n",
    "                                                        random_state = random_state)\n",
    "    \n",
    "    xgb = xgboost.XGBRegressor(n_estimators=100,\n",
    "                           learning_rate=0.08,\n",
    "                           gamma=0,\n",
    "                           subsample=0.75,\n",
    "                           colsample_bytree=1,\n",
    "                           max_depth=7)\n",
    "    \n",
    "    xgb.fit(X_train, y_train)\n",
    "    pred = xgb.predict(X_test)\n",
    "    pred = [p.round() for p in pred]\n",
    "    print pred[:10]\n",
    "    print y_test[:10]\n",
    "    return(explained_variance_score(y_test, pred))\n",
    "    "
   ]
  },
  {
   "cell_type": "code",
   "execution_count": 33,
   "metadata": {},
   "outputs": [
    {
     "ename": "NameError",
     "evalue": "name 'xgb_acc' is not defined",
     "output_type": "error",
     "traceback": [
      "\u001b[0;31m---------------------------------------------------------------------------\u001b[0m",
      "\u001b[0;31mNameError\u001b[0m                                 Traceback (most recent call last)",
      "\u001b[0;32m<ipython-input-33-d6831c86a8d9>\u001b[0m in \u001b[0;36m<module>\u001b[0;34m()\u001b[0m\n\u001b[1;32m      2\u001b[0m \u001b[0;31m#y = label_binarize(final['tenure'], classes=[1,2,3,4,5,6,7,8,9])\u001b[0m\u001b[0;34m\u001b[0m\u001b[0;34m\u001b[0m\u001b[0m\n\u001b[1;32m      3\u001b[0m \u001b[0mx\u001b[0m \u001b[0;34m=\u001b[0m \u001b[0mfinal\u001b[0m\u001b[0;34m.\u001b[0m\u001b[0mdrop\u001b[0m\u001b[0;34m(\u001b[0m\u001b[0;34m'tenure'\u001b[0m\u001b[0;34m,\u001b[0m \u001b[0maxis\u001b[0m \u001b[0;34m=\u001b[0m \u001b[0;36m1\u001b[0m\u001b[0;34m)\u001b[0m\u001b[0;34m\u001b[0m\u001b[0m\n\u001b[0;32m----> 4\u001b[0;31m \u001b[0mxgb_acc\u001b[0m\u001b[0;34m(\u001b[0m\u001b[0mx\u001b[0m\u001b[0;34m,\u001b[0m \u001b[0my\u001b[0m\u001b[0;34m,\u001b[0m \u001b[0;36m0.3\u001b[0m\u001b[0;34m)\u001b[0m\u001b[0;34m\u001b[0m\u001b[0m\n\u001b[0m\u001b[1;32m      5\u001b[0m \u001b[0;34m\u001b[0m\u001b[0m\n\u001b[1;32m      6\u001b[0m \u001b[0;31m# Tier, Country, and Source are poor predictors of tenure length\u001b[0m\u001b[0;34m\u001b[0m\u001b[0;34m\u001b[0m\u001b[0m\n",
      "\u001b[0;31mNameError\u001b[0m: name 'xgb_acc' is not defined"
     ]
    }
   ],
   "source": [
    "y = [float(i) for i in final['tenure']]\n",
    "#y = label_binarize(final['tenure'], classes=[1,2,3,4,5,6,7,8,9])\n",
    "x = final.drop('tenure', axis = 1)\n",
    "xgb_acc(x, y, 0.3)\n",
    "\n",
    "# Tier, Country, and Source are poor predictors of tenure length"
   ]
  },
  {
   "cell_type": "code",
   "execution_count": 99,
   "metadata": {},
   "outputs": [
    {
     "data": {
      "text/html": [
       "<div>\n",
       "<style>\n",
       "    .dataframe thead tr:only-child th {\n",
       "        text-align: right;\n",
       "    }\n",
       "\n",
       "    .dataframe thead th {\n",
       "        text-align: left;\n",
       "    }\n",
       "\n",
       "    .dataframe tbody tr th {\n",
       "        vertical-align: top;\n",
       "    }\n",
       "</style>\n",
       "<table border=\"1\" class=\"dataframe\">\n",
       "  <thead>\n",
       "    <tr style=\"text-align: right;\">\n",
       "      <th></th>\n",
       "      <th>tier_Gold</th>\n",
       "      <th>tier_Platinum</th>\n",
       "      <th>tier_Silver</th>\n",
       "      <th>country_Canada</th>\n",
       "      <th>country_France</th>\n",
       "      <th>country_Germany</th>\n",
       "      <th>country_Italy</th>\n",
       "      <th>country_Netherlands</th>\n",
       "      <th>country_Spain</th>\n",
       "      <th>country_UK</th>\n",
       "      <th>country_US</th>\n",
       "      <th>source_organic</th>\n",
       "      <th>source_partnerships</th>\n",
       "      <th>source_referral</th>\n",
       "    </tr>\n",
       "  </thead>\n",
       "  <tbody>\n",
       "    <tr>\n",
       "      <th>0</th>\n",
       "      <td>0</td>\n",
       "      <td>1</td>\n",
       "      <td>0</td>\n",
       "      <td>0</td>\n",
       "      <td>0</td>\n",
       "      <td>1</td>\n",
       "      <td>0</td>\n",
       "      <td>0</td>\n",
       "      <td>0</td>\n",
       "      <td>0</td>\n",
       "      <td>0</td>\n",
       "      <td>0</td>\n",
       "      <td>0</td>\n",
       "      <td>1</td>\n",
       "    </tr>\n",
       "    <tr>\n",
       "      <th>1</th>\n",
       "      <td>0</td>\n",
       "      <td>1</td>\n",
       "      <td>0</td>\n",
       "      <td>0</td>\n",
       "      <td>1</td>\n",
       "      <td>0</td>\n",
       "      <td>0</td>\n",
       "      <td>0</td>\n",
       "      <td>0</td>\n",
       "      <td>0</td>\n",
       "      <td>0</td>\n",
       "      <td>0</td>\n",
       "      <td>0</td>\n",
       "      <td>1</td>\n",
       "    </tr>\n",
       "    <tr>\n",
       "      <th>2</th>\n",
       "      <td>0</td>\n",
       "      <td>0</td>\n",
       "      <td>1</td>\n",
       "      <td>0</td>\n",
       "      <td>0</td>\n",
       "      <td>0</td>\n",
       "      <td>0</td>\n",
       "      <td>0</td>\n",
       "      <td>0</td>\n",
       "      <td>1</td>\n",
       "      <td>0</td>\n",
       "      <td>1</td>\n",
       "      <td>0</td>\n",
       "      <td>0</td>\n",
       "    </tr>\n",
       "    <tr>\n",
       "      <th>3</th>\n",
       "      <td>0</td>\n",
       "      <td>0</td>\n",
       "      <td>1</td>\n",
       "      <td>0</td>\n",
       "      <td>0</td>\n",
       "      <td>0</td>\n",
       "      <td>0</td>\n",
       "      <td>0</td>\n",
       "      <td>0</td>\n",
       "      <td>1</td>\n",
       "      <td>0</td>\n",
       "      <td>1</td>\n",
       "      <td>0</td>\n",
       "      <td>0</td>\n",
       "    </tr>\n",
       "    <tr>\n",
       "      <th>4</th>\n",
       "      <td>1</td>\n",
       "      <td>0</td>\n",
       "      <td>0</td>\n",
       "      <td>0</td>\n",
       "      <td>1</td>\n",
       "      <td>0</td>\n",
       "      <td>0</td>\n",
       "      <td>0</td>\n",
       "      <td>0</td>\n",
       "      <td>0</td>\n",
       "      <td>0</td>\n",
       "      <td>1</td>\n",
       "      <td>0</td>\n",
       "      <td>0</td>\n",
       "    </tr>\n",
       "  </tbody>\n",
       "</table>\n",
       "</div>"
      ],
      "text/plain": [
       "   tier_Gold  tier_Platinum  tier_Silver  country_Canada  country_France  \\\n",
       "0          0              1            0               0               0   \n",
       "1          0              1            0               0               1   \n",
       "2          0              0            1               0               0   \n",
       "3          0              0            1               0               0   \n",
       "4          1              0            0               0               1   \n",
       "\n",
       "   country_Germany  country_Italy  country_Netherlands  country_Spain  \\\n",
       "0                1              0                    0              0   \n",
       "1                0              0                    0              0   \n",
       "2                0              0                    0              0   \n",
       "3                0              0                    0              0   \n",
       "4                0              0                    0              0   \n",
       "\n",
       "   country_UK  country_US  source_organic  source_partnerships  \\\n",
       "0           0           0               0                    0   \n",
       "1           0           0               0                    0   \n",
       "2           1           0               1                    0   \n",
       "3           1           0               1                    0   \n",
       "4           0           0               1                    0   \n",
       "\n",
       "   source_referral  \n",
       "0                1  \n",
       "1                1  \n",
       "2                0  \n",
       "3                0  \n",
       "4                0  "
      ]
     },
     "execution_count": 99,
     "metadata": {},
     "output_type": "execute_result"
    }
   ],
   "source": [
    "x.head()"
   ]
  },
  {
   "cell_type": "code",
   "execution_count": 24,
   "metadata": {},
   "outputs": [
    {
     "name": "stdout",
     "output_type": "stream",
     "text": [
      "(10356, 17)\n"
     ]
    }
   ],
   "source": [
    "eight = dummies[dummies['tenure']>=8]\n",
    "dy = eight['active']\n",
    "dx = eight.drop(['active','tenure'], axis = 1)\n",
    "\n",
    "print eight.shape"
   ]
  },
  {
   "cell_type": "code",
   "execution_count": 89,
   "metadata": {},
   "outputs": [
    {
     "name": "stdout",
     "output_type": "stream",
     "text": [
      "0.501677621663\n",
      "0.494832769635\n",
      "0.506847771389\n",
      "0.508063114914\n",
      "0.501331414384\n"
     ]
    }
   ],
   "source": [
    "for i in range(1,6):\n",
    "    print gbm_acc(dx, dy, 0.3, i)"
   ]
  },
  {
   "cell_type": "code",
   "execution_count": 22,
   "metadata": {
    "collapsed": true
   },
   "outputs": [],
   "source": [
    "def xgb_pred(features, target, test_size, random_state = 69):\n",
    "    \n",
    "    X_train, X_test, y_train, y_test = train_test_split(features,\n",
    "                                                        target,\n",
    "                                                        test_size = test_size,\n",
    "                                                        random_state = random_state)\n",
    "    \n",
    "    xgb = xgboost.XGBRegressor(n_estimators=100,\n",
    "                           learning_rate=0.08,\n",
    "                           gamma=0,\n",
    "                           subsample=0.75,\n",
    "                           colsample_bytree=1,\n",
    "                           max_depth=7)\n",
    "    \n",
    "    xgb.fit(X_train, y_train)\n",
    "    pred = xgb.predict(X_test)\n",
    "    return(np.mean(pred))\n",
    "    "
   ]
  },
  {
   "cell_type": "code",
   "execution_count": 91,
   "metadata": {},
   "outputs": [
    {
     "name": "stdout",
     "output_type": "stream",
     "text": [
      "0.724649\n",
      "0.724178\n",
      "0.716691\n",
      "0.723478\n",
      "0.722272\n"
     ]
    }
   ],
   "source": [
    "import numpy as np\n",
    "for i in range(1,6):\n",
    "    print xgb_pred(dx, dy, 0.3, i)"
   ]
  },
  {
   "cell_type": "code",
   "execution_count": 92,
   "metadata": {
    "collapsed": true
   },
   "outputs": [],
   "source": [
    "def gbm_pred(features, target, test_size, random_state = 69):\n",
    "    \n",
    "    X_train, X_test, y_train, y_test = train_test_split(features,\n",
    "                                                        target,\n",
    "                                                        test_size = test_size,\n",
    "                                                        random_state = random_state)\n",
    "    gbm = GradientBoostingClassifier()\n",
    "    gbm.fit(X_train, y_train)\n",
    "    pred = gbm.predict_proba(X_test)\n",
    "    pred = [p[1] for p in pred]\n",
    "    return(np.mean(pred), roc_auc_score(y_test, pred))\n",
    "    "
   ]
  },
  {
   "cell_type": "code",
   "execution_count": 93,
   "metadata": {},
   "outputs": [
    {
     "name": "stdout",
     "output_type": "stream",
     "text": [
      "(0.72595987116259586, 0.50279382948907014)\n",
      "(0.72626069392369563, 0.49485054389225758)\n",
      "(0.71888843470298369, 0.50696661634492879)\n",
      "(0.72346872494784864, 0.50132820975837289)\n",
      "(0.72130536420727198, 0.501332980447184)\n",
      "(0.72227019745324639, 0.51031043540721799)\n",
      "(0.72227142681969059, 0.49397252504883737)\n",
      "(0.72190383884428344, 0.49276992003794734)\n",
      "(0.72208239996947121, 0.49908970883138126)\n",
      "(0.72608677572775659, 0.5024532703146658)\n",
      "(0.72483103768695867, 0.51597330584039236)\n",
      "(0.71888884448947687, 0.49587427258159744)\n",
      "(0.72819388968593446, 0.50543945832322901)\n",
      "(0.72313122517527673, 0.51487018935490247)\n",
      "(0.72215088549320505, 0.49357452245177774)\n",
      "(0.72891408303630167, 0.50669180704633154)\n",
      "(0.72063219832291869, 0.4997305116109359)\n",
      "(0.72039047107027254, 0.50748186499285874)\n",
      "(0.72659356088702087, 0.50072877499870672)\n"
     ]
    }
   ],
   "source": [
    "\n",
    "for i in range(1,20):\n",
    "    print gbm_pred(dx, dy, 0.3, i)"
   ]
  },
  {
   "cell_type": "code",
   "execution_count": 94,
   "metadata": {
    "collapsed": true
   },
   "outputs": [],
   "source": [
    "nine = eight[eight['tenure']==9]\n",
    "nx = nine.drop(['tenure','active'], axis = 1)"
   ]
  },
  {
   "cell_type": "code",
   "execution_count": 95,
   "metadata": {},
   "outputs": [
    {
     "name": "stdout",
     "output_type": "stream",
     "text": [
      "7492\n",
      "5466.0\n",
      "0.729552427483\n"
     ]
    }
   ],
   "source": [
    "### Model predicts 72% retention, but is only about 50% accurate ###\n",
    "\n",
    "gbm = GradientBoostingClassifier()\n",
    "gbm.fit(dx, dy)\n",
    "pred = gbm.predict_proba(nx)\n",
    "pred = [p[1] for p in pred]\n",
    "\n",
    "print(len(nx))\n",
    "print(np.sum(pred).round())\n",
    "print(np.mean(pred))"
   ]
  },
  {
   "cell_type": "code",
   "execution_count": 96,
   "metadata": {},
   "outputs": [
    {
     "name": "stdout",
     "output_type": "stream",
     "text": [
      "(0.69028959622277986, 0.49211711711711714)\n",
      "119\n",
      "102.0\n",
      "0.858336811847\n"
     ]
    }
   ],
   "source": [
    "### Try again splitting into tiers ###\n",
    "\n",
    "plat = eight[eight['tier_Platinum'] == 1]\n",
    "py = plat['active']\n",
    "nx = plat[plat['tenure'] == 9].drop(['active','tenure'], axis = 1)\n",
    "px = plat.drop(['active','tenure'], axis = 1)\n",
    "\n",
    "gbm.fit(px, py)\n",
    "pred = gbm.predict_proba(nx)\n",
    "pred = [p[1] for p in pred]\n",
    "\n",
    "print gbm_pred(px, py, 0.3)\n",
    "\n",
    "print(len(nx))\n",
    "print(np.sum(pred).round())\n",
    "print(np.mean(pred))"
   ]
  },
  {
   "cell_type": "code",
   "execution_count": 97,
   "metadata": {},
   "outputs": [
    {
     "name": "stdout",
     "output_type": "stream",
     "text": [
      "(0.71681388611261776, 0.50225673335544019)\n",
      "2170\n",
      "1599.0\n",
      "0.736821387097\n"
     ]
    }
   ],
   "source": [
    "gold = eight[eight['tier_Gold'] == 1]\n",
    "gy = gold['active']\n",
    "nx = gold[gold['tenure'] == 9].drop(['active','tenure'], axis = 1)\n",
    "gx = gold.drop(['active','tenure'], axis = 1)\n",
    "\n",
    "gbm.fit(gx, gy)\n",
    "pred = gbm.predict_proba(nx)\n",
    "pred = [p[1] for p in pred]\n",
    "\n",
    "print gbm_pred(gx, gy, 0.3)\n",
    "\n",
    "print(len(nx))\n",
    "print(np.sum(pred).round())\n",
    "print(np.mean(pred))"
   ]
  },
  {
   "cell_type": "code",
   "execution_count": 98,
   "metadata": {},
   "outputs": [
    {
     "name": "stdout",
     "output_type": "stream",
     "text": [
      "(0.72249536068637998, 0.51040964927266219)\n",
      "5203\n",
      "3812.0\n",
      "0.732674720096\n"
     ]
    }
   ],
   "source": [
    "silver = eight[eight['tier_Silver'] == 1]\n",
    "sy = silver['active']\n",
    "nx = silver[silver['tenure'] == 9].drop(['active','tenure'], axis = 1)\n",
    "sx = silver.drop(['active','tenure'], axis = 1)\n",
    "\n",
    "gbm.fit(sx, sy)\n",
    "pred = gbm.predict_proba(nx)\n",
    "pred = [p[1] for p in pred]\n",
    "\n",
    "print gbm_pred(sx, sy, 0.3)\n",
    "\n",
    "print(len(nx))\n",
    "print(np.sum(pred).round())\n",
    "print(np.mean(pred))"
   ]
  },
  {
   "cell_type": "code",
   "execution_count": null,
   "metadata": {
    "collapsed": true
   },
   "outputs": [],
   "source": [
    "# Predict the count of active subscriptions that are still active in one month\n",
    "#   > Use tenure 8 to 9\n",
    "#      - 10,356 subscribers, 7,492 still active\n",
    "#   > GBM predicts ~ 72% will still be active in 3 months, with an auroc score of ~ 50%\n",
    "#   > By Tier:\n",
    "#      - Platinum: GBM predicts 85.8% will be active, with an auroc score of 49%\n",
    "#      - Gold: GBM predicts 73.6% will be active, with an auroc score of 50%\n",
    "#      - Silver: GBM predicts 73.2% will be active, with an auroc score of 51%\n",
    "  \n",
    "\n",
    "\n",
    "# Predict the count of active subscriptions that are still active in three month\n",
    "#   > Use tenure 6 to 9\n",
    "#      - 13,528 subscribers, 7,492 still active\n",
    "#   > GBM predicts ~ 55% will still be active in 3 months, with an auroc score of ~ 64%\n",
    "#   > By Tier:\n",
    "#      - Platinum: GBM predicts 48% will be active, with an auroc score of 47%\n",
    "#      - Gold: GBM predicts 48% will be active, with an auroc score of 47%\n",
    "#      - Silver: GBM predicts 48% will be active, with an auroc score of 47%\n"
   ]
  },
  {
   "cell_type": "code",
   "execution_count": 24,
   "metadata": {
    "collapsed": true
   },
   "outputs": [],
   "source": [
    "import xgboost\n",
    "from sklearn.model_selection import train_test_split\n",
    "from sklearn.metrics import accuracy_score\n"
   ]
  },
  {
   "cell_type": "code",
   "execution_count": 25,
   "metadata": {
    "collapsed": true
   },
   "outputs": [],
   "source": [
    "from xgboost import plot_importance\n",
    "def xgb_class(features, target, test_size, random_state = 69):\n",
    "    \n",
    "    X_train, X_test, y_train, y_test = train_test_split(features,\n",
    "                                                        target,\n",
    "                                                        test_size = test_size,\n",
    "                                                        random_state = random_state)\n",
    "    \n",
    "    xgb = xgboost.XGBClassifier()\n",
    "    \n",
    "    xgb.fit(X_train, y_train)\n",
    "    plot_importance(xgb)\n",
    "    plt.show()\n",
    "    pred = xgb.predict(X_test)\n",
    "    return(accuracy_score(y_test, pred), roc_auc_score(y_test, pred))\n",
    " "
   ]
  },
  {
   "cell_type": "code",
   "execution_count": 26,
   "metadata": {},
   "outputs": [
    {
     "data": {
      "image/png": "[encoded data removed]",
      "text/plain": [
       "<matplotlib.figure.Figure at 0x11ad047d0>"
      ]
     },
     "metadata": {},
     "output_type": "display_data"
    },
    {
     "name": "stdout",
     "output_type": "stream",
     "text": [
      "(0.9236259338313767, 0.53545065016526527)\n"
     ]
    },
    {
     "data": {
      "image/png": "[encoded data removed]",
      "text/plain": [
       "<matplotlib.figure.Figure at 0x118a10510>"
      ]
     },
     "metadata": {},
     "output_type": "display_data"
    },
    {
     "name": "stdout",
     "output_type": "stream",
     "text": [
      "(0.92419290288153677, 0.52496724697996844)\n"
     ]
    },
    {
     "data": {
      "image/png": "[encoded data removed]",
      "text/plain": [
       "<matplotlib.figure.Figure at 0x11ae15b90>"
      ]
     },
     "metadata": {},
     "output_type": "display_data"
    },
    {
     "name": "stdout",
     "output_type": "stream",
     "text": [
      "(0.92579375667022412, 0.51358933080420544)\n"
     ]
    },
    {
     "data": {
      "image/png": "[encoded data removed]",
      "text/plain": [
       "<matplotlib.figure.Figure at 0x11e8737d0>"
      ]
     },
     "metadata": {},
     "output_type": "display_data"
    },
    {
     "name": "stdout",
     "output_type": "stream",
     "text": [
      "(0.92626067235859122, 0.51106468392549398)\n"
     ]
    },
    {
     "data": {
      "image/png": "[encoded data removed]",
      "text/plain": [
       "<matplotlib.figure.Figure at 0x11e8738d0>"
      ]
     },
     "metadata": {},
     "output_type": "display_data"
    },
    {
     "name": "stdout",
     "output_type": "stream",
     "text": [
      "(0.92439300960512272, 0.53341146687582974)\n"
     ]
    }
   ],
   "source": [
    "iterations = 5\n",
    "\n",
    "for i in range(iterations):\n",
    "    print xgb_class(x, y, 0.3, i)"
   ]
  },
  {
   "cell_type": "code",
   "execution_count": null,
   "metadata": {
    "collapsed": true
   },
   "outputs": [],
   "source": []
  }
 ],
 "metadata": {
  "kernelspec": {
   "display_name": "Python 2",
   "language": "python",
   "name": "python2"
  },
  "language_info": {
   "codemirror_mode": {
    "name": "ipython",
    "version": 2
   },
   "file_extension": ".py",
   "mimetype": "text/x-python",
   "name": "python",
   "nbconvert_exporter": "python",
   "pygments_lexer": "ipython2",
   "version": "2.7.13"
  }
 },
 "nbformat": 4,
 "nbformat_minor": 2
}
