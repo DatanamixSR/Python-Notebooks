{
 "cells": [
  {
   "cell_type": "code",
   "execution_count": 1,
   "metadata": {
    "collapsed": true
   },
   "outputs": [],
   "source": [
    "# The Question: \n",
    "# Are rat sightings more common in areas that have a higher density of restaurants with low inspection grades?\n",
    "\n",
    "import pandas as pd\n",
    "import matplotlib.pyplot as plt\n",
    "import seaborn as sns\n",
    "import numpy as np\n",
    "from collections import Counter\n",
    "\n",
    "%matplotlib inline\n",
    "\n",
    "# Import standard modules - pandas, numpy, and counter for basic data operations\n",
    "# Import visualization libraries - matplotlib and seaborn"
   ]
  },
  {
   "cell_type": "code",
   "execution_count": 2,
   "metadata": {},
   "outputs": [
    {
     "name": "stdout",
     "output_type": "stream",
     "text": [
      "(395602, 18)\n"
     ]
    },
    {
     "data": {
      "text/plain": [
       "CAMIS                         0\n",
       "DBA                         394\n",
       "BORO                          0\n",
       "BUILDING                    133\n",
       "STREET                        6\n",
       "ZIPCODE                       6\n",
       "PHONE                        16\n",
       "CUISINE DESCRIPTION           0\n",
       "INSPECTION DATE               0\n",
       "ACTION                     1108\n",
       "VIOLATION CODE             6132\n",
       "VIOLATION DESCRIPTION      6789\n",
       "CRITICAL FLAG                 0\n",
       "SCORE                     22115\n",
       "GRADE                    199712\n",
       "GRADE DATE               201641\n",
       "RECORD DATE                   0\n",
       "INSPECTION TYPE            1108\n",
       "dtype: int64"
      ]
     },
     "execution_count": 2,
     "metadata": {},
     "output_type": "execute_result"
    }
   ],
   "source": [
    "restaurants = pd.read_csv('/PATH_TO_DATA/DOHMH_New_York_City_Restaurant_Inspection_Results.csv')\n",
    "\n",
    "print restaurants.shape\n",
    "restaurants.isnull().sum()\n",
    "\n",
    "# View data shape and missing/null values"
   ]
  },
  {
   "cell_type": "code",
   "execution_count": 3,
   "metadata": {},
   "outputs": [
    {
     "data": {
      "text/html": [
       "<div>\n",
       "<style>\n",
       "    .dataframe thead tr:only-child th {\n",
       "        text-align: right;\n",
       "    }\n",
       "\n",
       "    .dataframe thead th {\n",
       "        text-align: left;\n",
       "    }\n",
       "\n",
       "    .dataframe tbody tr th {\n",
       "        vertical-align: top;\n",
       "    }\n",
       "</style>\n",
       "<table border=\"1\" class=\"dataframe\">\n",
       "  <thead>\n",
       "    <tr style=\"text-align: right;\">\n",
       "      <th></th>\n",
       "      <th>CAMIS</th>\n",
       "      <th>DBA</th>\n",
       "      <th>BORO</th>\n",
       "      <th>BUILDING</th>\n",
       "      <th>STREET</th>\n",
       "      <th>ZIPCODE</th>\n",
       "      <th>PHONE</th>\n",
       "      <th>CUISINE DESCRIPTION</th>\n",
       "      <th>INSPECTION DATE</th>\n",
       "      <th>ACTION</th>\n",
       "      <th>VIOLATION CODE</th>\n",
       "      <th>VIOLATION DESCRIPTION</th>\n",
       "      <th>CRITICAL FLAG</th>\n",
       "      <th>SCORE</th>\n",
       "      <th>GRADE</th>\n",
       "      <th>GRADE DATE</th>\n",
       "      <th>RECORD DATE</th>\n",
       "      <th>INSPECTION TYPE</th>\n",
       "    </tr>\n",
       "  </thead>\n",
       "  <tbody>\n",
       "    <tr>\n",
       "      <th>0</th>\n",
       "      <td>50017056</td>\n",
       "      <td>SILVER SPOON DINER</td>\n",
       "      <td>QUEENS</td>\n",
       "      <td>5821</td>\n",
       "      <td>JUNCTION BLVD</td>\n",
       "      <td>11373.0</td>\n",
       "      <td>7183933000</td>\n",
       "      <td>American</td>\n",
       "      <td>06/21/2016</td>\n",
       "      <td>Violations were cited in the following area(s).</td>\n",
       "      <td>06E</td>\n",
       "      <td>Sanitized equipment or utensil, including in-u...</td>\n",
       "      <td>Critical</td>\n",
       "      <td>12.0</td>\n",
       "      <td>A</td>\n",
       "      <td>06/21/2016</td>\n",
       "      <td>12/06/2017</td>\n",
       "      <td>Cycle Inspection / Initial Inspection</td>\n",
       "    </tr>\n",
       "    <tr>\n",
       "      <th>1</th>\n",
       "      <td>50053505</td>\n",
       "      <td>KUNG FU TEA</td>\n",
       "      <td>QUEENS</td>\n",
       "      <td>4111</td>\n",
       "      <td>KISSENA BLVD</td>\n",
       "      <td>11355.0</td>\n",
       "      <td>7188868236</td>\n",
       "      <td>CafÃ©/Coffee/Tea</td>\n",
       "      <td>10/06/2016</td>\n",
       "      <td>Violations were cited in the following area(s).</td>\n",
       "      <td>10F</td>\n",
       "      <td>Non-food contact surface improperly constructe...</td>\n",
       "      <td>Not Critical</td>\n",
       "      <td>8.0</td>\n",
       "      <td>A</td>\n",
       "      <td>10/06/2016</td>\n",
       "      <td>12/06/2017</td>\n",
       "      <td>Pre-permit (Operational) / Initial Inspection</td>\n",
       "    </tr>\n",
       "    <tr>\n",
       "      <th>2</th>\n",
       "      <td>41416119</td>\n",
       "      <td>TASTY'S DINER</td>\n",
       "      <td>QUEENS</td>\n",
       "      <td>3304</td>\n",
       "      <td>DITMARS BOULEVARD</td>\n",
       "      <td>11105.0</td>\n",
       "      <td>7187778830</td>\n",
       "      <td>American</td>\n",
       "      <td>08/05/2014</td>\n",
       "      <td>Violations were cited in the following area(s).</td>\n",
       "      <td>10F</td>\n",
       "      <td>Non-food contact surface improperly constructe...</td>\n",
       "      <td>Not Critical</td>\n",
       "      <td>9.0</td>\n",
       "      <td>A</td>\n",
       "      <td>08/05/2014</td>\n",
       "      <td>12/06/2017</td>\n",
       "      <td>Cycle Inspection / Re-inspection</td>\n",
       "    </tr>\n",
       "    <tr>\n",
       "      <th>3</th>\n",
       "      <td>40596549</td>\n",
       "      <td>POLLOS A LA BARASA MARIO</td>\n",
       "      <td>QUEENS</td>\n",
       "      <td>4019</td>\n",
       "      <td>BROADWAY</td>\n",
       "      <td>11103.0</td>\n",
       "      <td>7189322424</td>\n",
       "      <td>Latin (Cuban, Dominican, Puerto Rican, South &amp;...</td>\n",
       "      <td>04/30/2015</td>\n",
       "      <td>No violations were recorded at the time of thi...</td>\n",
       "      <td>22C</td>\n",
       "      <td>Bulb not shielded or shatterproof, in areas wh...</td>\n",
       "      <td>Not Critical</td>\n",
       "      <td>NaN</td>\n",
       "      <td>NaN</td>\n",
       "      <td>NaN</td>\n",
       "      <td>12/06/2017</td>\n",
       "      <td>Administrative Miscellaneous / Re-inspection</td>\n",
       "    </tr>\n",
       "    <tr>\n",
       "      <th>4</th>\n",
       "      <td>50009039</td>\n",
       "      <td>MID WINTER KITCHEN</td>\n",
       "      <td>MANHATTAN</td>\n",
       "      <td>327</td>\n",
       "      <td>2ND AVE</td>\n",
       "      <td>10003.0</td>\n",
       "      <td>2125058500</td>\n",
       "      <td>American</td>\n",
       "      <td>07/17/2014</td>\n",
       "      <td>Violations were cited in the following area(s).</td>\n",
       "      <td>10B</td>\n",
       "      <td>Plumbing not properly installed or maintained;...</td>\n",
       "      <td>Not Critical</td>\n",
       "      <td>12.0</td>\n",
       "      <td>A</td>\n",
       "      <td>07/17/2014</td>\n",
       "      <td>12/06/2017</td>\n",
       "      <td>Pre-permit (Operational) / Initial Inspection</td>\n",
       "    </tr>\n",
       "  </tbody>\n",
       "</table>\n",
       "</div>"
      ],
      "text/plain": [
       "      CAMIS                       DBA       BORO BUILDING             STREET  \\\n",
       "0  50017056        SILVER SPOON DINER     QUEENS     5821      JUNCTION BLVD   \n",
       "1  50053505               KUNG FU TEA     QUEENS     4111       KISSENA BLVD   \n",
       "2  41416119             TASTY'S DINER     QUEENS     3304  DITMARS BOULEVARD   \n",
       "3  40596549  POLLOS A LA BARASA MARIO     QUEENS     4019           BROADWAY   \n",
       "4  50009039        MID WINTER KITCHEN  MANHATTAN      327            2ND AVE   \n",
       "\n",
       "   ZIPCODE       PHONE                                CUISINE DESCRIPTION  \\\n",
       "0  11373.0  7183933000                                           American   \n",
       "1  11355.0  7188868236                                   CafÃ©/Coffee/Tea   \n",
       "2  11105.0  7187778830                                           American   \n",
       "3  11103.0  7189322424  Latin (Cuban, Dominican, Puerto Rican, South &...   \n",
       "4  10003.0  2125058500                                           American   \n",
       "\n",
       "  INSPECTION DATE                                             ACTION  \\\n",
       "0      06/21/2016    Violations were cited in the following area(s).   \n",
       "1      10/06/2016    Violations were cited in the following area(s).   \n",
       "2      08/05/2014    Violations were cited in the following area(s).   \n",
       "3      04/30/2015  No violations were recorded at the time of thi...   \n",
       "4      07/17/2014    Violations were cited in the following area(s).   \n",
       "\n",
       "  VIOLATION CODE                              VIOLATION DESCRIPTION  \\\n",
       "0            06E  Sanitized equipment or utensil, including in-u...   \n",
       "1            10F  Non-food contact surface improperly constructe...   \n",
       "2            10F  Non-food contact surface improperly constructe...   \n",
       "3            22C  Bulb not shielded or shatterproof, in areas wh...   \n",
       "4            10B  Plumbing not properly installed or maintained;...   \n",
       "\n",
       "  CRITICAL FLAG  SCORE GRADE  GRADE DATE RECORD DATE  \\\n",
       "0      Critical   12.0     A  06/21/2016  12/06/2017   \n",
       "1  Not Critical    8.0     A  10/06/2016  12/06/2017   \n",
       "2  Not Critical    9.0     A  08/05/2014  12/06/2017   \n",
       "3  Not Critical    NaN   NaN         NaN  12/06/2017   \n",
       "4  Not Critical   12.0     A  07/17/2014  12/06/2017   \n",
       "\n",
       "                                 INSPECTION TYPE  \n",
       "0          Cycle Inspection / Initial Inspection  \n",
       "1  Pre-permit (Operational) / Initial Inspection  \n",
       "2               Cycle Inspection / Re-inspection  \n",
       "3   Administrative Miscellaneous / Re-inspection  \n",
       "4  Pre-permit (Operational) / Initial Inspection  "
      ]
     },
     "execution_count": 3,
     "metadata": {},
     "output_type": "execute_result"
    }
   ],
   "source": [
    "restaurants.head()\n",
    "\n",
    "# Quick look at the top of the dataframe"
   ]
  },
  {
   "cell_type": "code",
   "execution_count": 4,
   "metadata": {},
   "outputs": [
    {
     "name": "stdout",
     "output_type": "stream",
     "text": [
      "Evidence of rats or live rats present in facility's food and/or non-food areas.\n",
      "\n",
      "\n"
     ]
    }
   ],
   "source": [
    "# Our goal requires identification of violations involving rats, we can pick these out from the set of all violations\n",
    "\n",
    "cats = set(restaurants['VIOLATION DESCRIPTION'])\n",
    "tars = []\n",
    "\n",
    "#for i in cats:\n",
    "#    if 'mice' in str(i):\n",
    "#        print i\n",
    "#        tars.append(i)\n",
    "#        print '\\n'\n",
    "\n",
    "for i in cats:\n",
    "    if ' rat' in str(i):\n",
    "        print i\n",
    "        tars.append(i)\n",
    "        print '\\n'"
   ]
  },
  {
   "cell_type": "code",
   "execution_count": 5,
   "metadata": {},
   "outputs": [
    {
     "name": "stdout",
     "output_type": "stream",
     "text": [
      "239\n",
      "6\n",
      "Counter({'MANHATTAN': 157407, 'BROOKLYN': 99419, 'QUEENS': 91062, 'BRONX': 34182, 'STATEN ISLAND': 13515, 'Missing': 17})\n",
      "Counter({nan: 199712, 'A': 154583, 'B': 27382, 'C': 6929, 'Z': 3456, 'Not Yet Graded': 1934, 'P': 1606})\n"
     ]
    }
   ],
   "source": [
    "# We are most concerned with location data and grades, let's take a quick look at their distributions\n",
    "\n",
    "print len(set(restaurants['ZIPCODE']))\n",
    "print len(set(restaurants['BORO']))\n",
    "print Counter(restaurants['BORO'])\n",
    "print Counter(restaurants['GRADE'])"
   ]
  },
  {
   "cell_type": "code",
   "execution_count": 6,
   "metadata": {
    "collapsed": true
   },
   "outputs": [],
   "source": [
    "# A = Grade A \n",
    "# B = Grade B \n",
    "# C = Grade C \n",
    "# Z = Grade Pending\n",
    "# P = Grade Pending issued on re-opening following an initial inspection that resulted in a closure\n",
    "\n",
    "rats = []\n",
    "grade = []\n",
    "grades = {'A': 100.0, 'B': 50.0, 'C': 0.0}   \n",
    "\n",
    "# Grades Z and P do not help us, as we are interested in existing grades. Missing values are assumed to be \n",
    "# not graded yet. We can translate these categoricals to a numerical scale that will reflect the strength \n",
    "# of an entire area's grade, once aggregated. If my numbers seem arbitrary, they are to an extent. I have simply\n",
    "# chosen numbers that will help separate the lower graded areas when creating visualizations. Additionally, a \n",
    "# binary variable for rat violations will make for easy and insightful aggregations.\n",
    "\n",
    "for i in range(restaurants.shape[0]):\n",
    "    if restaurants['VIOLATION DESCRIPTION'][i] != tars[-1]:\n",
    "        rats.append(0)\n",
    "    else:\n",
    "        rats.append(1)\n",
    "    try:    \n",
    "        grade.append(grades[restaurants['GRADE'][i]])\n",
    "    except KeyError:\n",
    "        grade.append(np.nan)\n",
    "\n",
    "restaurants['grade'] = grade\n",
    "restaurants['Rats'] = rats"
   ]
  },
  {
   "cell_type": "code",
   "execution_count": 7,
   "metadata": {},
   "outputs": [
    {
     "data": {
      "image/png": "[encoded data removed]",
      "text/plain": [
       "<matplotlib.figure.Figure at 0x11bffde50>"
      ]
     },
     "metadata": {},
     "output_type": "display_data"
    }
   ],
   "source": [
    "# Our two variables containing location data are 'BORO' and 'ZIPCODE'. Since BORO only has 6 values, it is a good\n",
    "# place to start dividing up areas. I have created two barplots with a shared X axis that show us the average \n",
    "# number of rat violations per GRADE, and the frequency of each GRADE, in each of the BORO's. As can be seen below,\n",
    "# Staten Island and the Bronx have the lowest rate of rat violations, while Queens has the highest. When\n",
    "# comparing frequencies of restaurant grades, we can see that most of the BORO's have similar distributions of\n",
    "# 'A' grades relative to 'B' and 'C'. It is intriguing that rat violations are generally highest for 'B' grades,\n",
    "# defying the intution that C should be highest. Considering that Brooklyn, Manhattan, and Queens all have higher \n",
    "# rates of rat violations compared to the similarly distributed Bronx, the data seems to suggest that rat violations \n",
    "# have more to do with the area in question rather than the grade. \n",
    "\n",
    "df = restaurants[(restaurants['BORO']!= 'Missing') & (restaurants['GRADE'].isin(['A', 'B', 'C']))]\n",
    "\n",
    "fig, (ax1, ax2) = plt.subplots(ncols = 1, nrows = 2, sharex = True, figsize = (9,9))    \n",
    "\n",
    "sns.factorplot(x = \"BORO\", y = \"Rats\", hue = \"GRADE\", data = df,\n",
    "                   size = 6, kind = \"bar\", ax = ax1)\n",
    "\n",
    "ax1.set_ylabel('Mean Rat Violations')\n",
    "ax1.legend(loc='center left', bbox_to_anchor=(1, 0.5))\n",
    "\n",
    "tps = df.pivot_table(values=['Rats'], \n",
    "                      index='BORO',\n",
    "                      columns='GRADE',\n",
    "                      aggfunc='sum')\n",
    "\n",
    "tps = tps.div(tps.sum(1), axis=0)\n",
    "tps.plot(kind='bar', stacked=True,ax = ax2)\n",
    "\n",
    "ax2.set_ylabel('Percentage of Whole')\n",
    "ax2.legend(loc='center left', bbox_to_anchor=(1, 0.5), labels = ['Grade A', 'Grade B', 'Grade C'])\n",
    "\n",
    "for tick in ax2.get_xticklabels():\n",
    "    tick.set_rotation(0)\n",
    "\n",
    "plt.close()"
   ]
  },
  {
   "cell_type": "code",
   "execution_count": 8,
   "metadata": {},
   "outputs": [
    {
     "data": {
      "image/png": "[encoded data removed]",
      "text/plain": [
       "<matplotlib.figure.Figure at 0x1149ed710>"
      ]
     },
     "metadata": {},
     "output_type": "display_data"
    }
   ],
   "source": [
    "# Going one level further, let's look at ZIPCODE instead of BORO. We now have 239 locations instead of the 5 we had\n",
    "# previously. After grouping the grades and rat violations by ZIPCODE, we can look at a simple scatterplot of each\n",
    "# ZIPCODE's grade vs. rat violations. If the grade has a significant impact on rat violations, we should see a downward\n",
    "# trend from left to right. The plot on the left contains all the data, while the plot on the right zooms in on the \n",
    "# cluster in the bottom right.\n",
    "\n",
    "# Most of our data is contained within the created grade range of 82 to 95. There does not appear to be any visual\n",
    "# trend in this grade range, as the data seems almost randomly splattered around. Considering that rat violations in \n",
    "# the grade range of 82 to 88 are nearly indistinguishable from those in 89 to 95, I would say that rat sightings\n",
    "# are NOT more common in areas with higher density of lower restaurant inspection grades.\n",
    "\n",
    "df2 = restaurants[restaurants['GRADE'].isin(['A', 'B', 'C'])].groupby(['ZIPCODE']).agg({'grade': 'mean', 'Rats': 'mean'})\n",
    "\n",
    "fig = plt.figure(figsize=(16,7))\n",
    "\n",
    "ax1 = plt.subplot(131)\n",
    "ax1.scatter(df2['grade'],df2['Rats'])\n",
    "\n",
    "\n",
    "ax2 = plt.subplot(132)\n",
    "ax2.scatter(df2['grade'],df2['Rats'])\n",
    "ax2.set_xlim([80, 100])\n",
    "ax2.set_ylim([-0.005, 0.025])\n",
    "\n",
    "plt.show()\n",
    "plt.close()"
   ]
  },
  {
   "cell_type": "code",
   "execution_count": 9,
   "metadata": {},
   "outputs": [
    {
     "name": "stdout",
     "output_type": "stream",
     "text": [
      "Evidence of mice or live mice present in facility's food and/or non-food areas.\n",
      "\n",
      "\n"
     ]
    }
   ],
   "source": [
    "# A Question of my own to answer?\n",
    "\n",
    "# We did all these assessments for rats, but what about their not so different family members, mice? Do mice sightings\n",
    "# occur more or less frequently, and in different areas?\n",
    "\n",
    "cats = set(restaurants['VIOLATION DESCRIPTION'])\n",
    "tars = []\n",
    "\n",
    "for i in cats:\n",
    "    if 'mice' in str(i):\n",
    "        print i\n",
    "        tars.append(i)\n",
    "        print '\\n'"
   ]
  },
  {
   "cell_type": "code",
   "execution_count": 10,
   "metadata": {
    "collapsed": true
   },
   "outputs": [],
   "source": [
    "mice = []\n",
    "\n",
    "for i in range(restaurants.shape[0]):\n",
    "    if restaurants['VIOLATION DESCRIPTION'][i] != tars[-1]:\n",
    "        mice.append(0)\n",
    "    else:\n",
    "        mice.append(1)\n",
    "\n",
    "\n",
    "restaurants['Mice'] = mice"
   ]
  },
  {
   "cell_type": "code",
   "execution_count": 11,
   "metadata": {},
   "outputs": [
    {
     "data": {
      "image/png": "[encoded data removed]",
      "text/plain": [
       "<matplotlib.figure.Figure at 0x11549d550>"
      ]
     },
     "metadata": {},
     "output_type": "display_data"
    }
   ],
   "source": [
    "df = restaurants[(restaurants['BORO']!= 'Missing') & (restaurants['GRADE'].isin(['A', 'B', 'C']))]\n",
    "\n",
    "fig, (ax1, ax2) = plt.subplots(ncols = 2, nrows = 1, sharey = True, figsize = (12,9))    \n",
    "\n",
    "sns.factorplot(x = \"BORO\", y = \"Mice\", hue = \"GRADE\", data = df,\n",
    "                   size = 6, kind = \"bar\", ax = ax1)\n",
    "\n",
    "ax1.set_ylabel('Mean Mice Violations')\n",
    "\n",
    "\n",
    "sns.factorplot(x = \"BORO\", y = \"Rats\", hue = \"GRADE\", data = df,\n",
    "                   size = 6, kind = \"bar\", ax = ax2)\n",
    "\n",
    "ax2.set_ylabel('Mean Rat Violations')\n",
    "ax2.legend(loc='center left', bbox_to_anchor=(1, 0.5))\n",
    "\n",
    "for tick in ax2.get_xticklabels():\n",
    "    tick.set_rotation(30)\n",
    "    \n",
    "for tick in ax1.get_xticklabels():\n",
    "    tick.set_rotation(30)\n",
    "\n",
    "plt.close()\n",
    "plt.close()  # I have yet to figure out the mystery of why matplotlib is adding empty plots to my subplots.\n",
    "             # For now, this is my intermediate solution."
   ]
  },
  {
   "cell_type": "code",
   "execution_count": null,
   "metadata": {
    "collapsed": true
   },
   "outputs": [],
   "source": [
    "# It's clear that Mice are a much larger problem than Rats, and with a lot more consistency across BORO's. While\n",
    "# Staten Island and Queens have an easier time dealing with Rats, they are comparably struggling with Mice sightings\n",
    "# relative to the other BORO's."
   ]
  }
 ],
 "metadata": {
  "kernelspec": {
   "display_name": "Python 2",
   "language": "python",
   "name": "python2"
  },
  "language_info": {
   "codemirror_mode": {
    "name": "ipython",
    "version": 2
   },
   "file_extension": ".py",
   "mimetype": "text/x-python",
   "name": "python",
   "nbconvert_exporter": "python",
   "pygments_lexer": "ipython2",
   "version": "2.7.13"
  }
 },
 "nbformat": 4,
 "nbformat_minor": 2
}
